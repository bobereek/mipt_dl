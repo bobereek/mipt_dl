{
  "nbformat": 4,
  "nbformat_minor": 0,
  "metadata": {
    "kernelspec": {
      "display_name": "Python 3",
      "language": "python",
      "name": "python3"
    },
    "language_info": {
      "codemirror_mode": {
        "name": "ipython",
        "version": 3
      },
      "file_extension": ".py",
      "mimetype": "text/x-python",
      "name": "python",
      "nbconvert_exporter": "python",
      "pygments_lexer": "ipython3",
      "version": "3.7.3"
    },
    "colab": {
      "provenance": [],
      "include_colab_link": true
    }
  },
  "cells": [
    {
      "cell_type": "markdown",
      "metadata": {
        "id": "view-in-github",
        "colab_type": "text"
      },
      "source": [
        "<a href=\"https://colab.research.google.com/github/bobereek/mipt_dl/blob/main/Maksim_Kochnov_Alg_12_2024_25_LU_QR_task.ipynb\" target=\"_parent\"><img src=\"https://colab.research.google.com/assets/colab-badge.svg\" alt=\"Open In Colab\"/></a>"
      ]
    },
    {
      "cell_type": "code",
      "metadata": {
        "id": "icrkYljeEln7"
      },
      "source": [
        "import sympy\n",
        "from sympy import Matrix, S, Symbol, symbols, I, zeros, eye\n",
        "from sympy import simplify, expand, expand_complex, latex\n",
        "import numpy as np\n",
        "from IPython.display import Latex"
      ],
      "execution_count": null,
      "outputs": []
    },
    {
      "cell_type": "markdown",
      "metadata": {
        "id": "t-ZvhFPEEln9"
      },
      "source": [
        "# Практическое занятие 12\n",
        "# Компьютерный практикум по алгебре на Python\n",
        "## Матричные разложения: Холецкого, LDL, LU, QR."
      ]
    },
    {
      "cell_type": "markdown",
      "source": [
        "### Задание 1\n",
        "Построить скелетное разложение для матрицы\n",
        "$\n",
        "\\left(\n",
        "\\begin{matrix}\n",
        "1 & 2 & -5 & 9 & 1\\\\\n",
        "4 & 3 & -3 & 4 & 1\\\\\n",
        "5 & 5 & -8 & 13 & 2\\\\\n",
        "3 & 1 & 2 & -5 & 0\n",
        "\\end{matrix}\n",
        "\\right)\n",
        "$\n",
        "Вывести на экран все элементы разложения.  Проверить, что получено разложение именно этиой матрицы (соответствующее произведение равно исходной матрице)."
      ],
      "metadata": {
        "id": "_3IPblWqmWxY"
      }
    },
    {
      "cell_type": "code",
      "source": [
        "A = Matrix([[1, 2 , -5, 9, 1],\n",
        "            [4, 3, -3, 4, 1],\n",
        "            [5, 5, -8, 13, 2],\n",
        "            [3, 1, 2, -5, 0]])\n",
        "A_rref = A.rref()\n",
        "B = A[:, :2]\n",
        "C = A_rref[0][:2, :]\n",
        "display('B', B, 'C', C)\n",
        "display(Latex(fr'A = {latex(A)}\\quad BC = {latex(B * C)}'))\n",
        "display('Проверка корректности', B * C == A)"
      ],
      "metadata": {
        "id": "vq8Glj6WtGGy",
        "colab": {
          "base_uri": "https://localhost:8080/",
          "height": 295
        },
        "outputId": "9a368659-43ca-4dda-93b2-f25d1db04161"
      },
      "execution_count": null,
      "outputs": [
        {
          "output_type": "display_data",
          "data": {
            "text/plain": [
              "'B'"
            ],
            "application/vnd.google.colaboratory.intrinsic+json": {
              "type": "string"
            }
          },
          "metadata": {}
        },
        {
          "output_type": "display_data",
          "data": {
            "text/plain": [
              "Matrix([\n",
              "[1, 2],\n",
              "[4, 3],\n",
              "[5, 5],\n",
              "[3, 1]])"
            ],
            "text/latex": "$\\displaystyle \\left[\\begin{matrix}1 & 2\\\\4 & 3\\\\5 & 5\\\\3 & 1\\end{matrix}\\right]$"
          },
          "metadata": {}
        },
        {
          "output_type": "display_data",
          "data": {
            "text/plain": [
              "'C'"
            ],
            "application/vnd.google.colaboratory.intrinsic+json": {
              "type": "string"
            }
          },
          "metadata": {}
        },
        {
          "output_type": "display_data",
          "data": {
            "text/plain": [
              "Matrix([\n",
              "[1, 0,   9/5, -19/5, -1/5],\n",
              "[0, 1, -17/5,  32/5,  3/5]])"
            ],
            "text/latex": "$\\displaystyle \\left[\\begin{matrix}1 & 0 & \\frac{9}{5} & - \\frac{19}{5} & - \\frac{1}{5}\\\\0 & 1 & - \\frac{17}{5} & \\frac{32}{5} & \\frac{3}{5}\\end{matrix}\\right]$"
          },
          "metadata": {}
        },
        {
          "output_type": "display_data",
          "data": {
            "text/plain": [
              "<IPython.core.display.Latex object>"
            ],
            "text/latex": "A = \\left[\\begin{matrix}1 & 2 & -5 & 9 & 1\\\\4 & 3 & -3 & 4 & 1\\\\5 & 5 & -8 & 13 & 2\\\\3 & 1 & 2 & -5 & 0\\end{matrix}\\right]\\quad BC = \\left[\\begin{matrix}1 & 2 & -5 & 9 & 1\\\\4 & 3 & -3 & 4 & 1\\\\5 & 5 & -8 & 13 & 2\\\\3 & 1 & 2 & -5 & 0\\end{matrix}\\right]"
          },
          "metadata": {}
        },
        {
          "output_type": "display_data",
          "data": {
            "text/plain": [
              "'Проверка корректности'"
            ],
            "application/vnd.google.colaboratory.intrinsic+json": {
              "type": "string"
            }
          },
          "metadata": {}
        },
        {
          "output_type": "display_data",
          "data": {
            "text/plain": [
              "True"
            ]
          },
          "metadata": {}
        }
      ]
    },
    {
      "cell_type": "markdown",
      "metadata": {
        "id": "iLYVC4z3Eln-"
      },
      "source": [
        "### Задание 2.\n",
        "Построить разложение Холецкого матриц\n",
        "$$\n",
        "M_1=\\left(\n",
        "\\begin{matrix}\n",
        "1&-3&0\\\\\n",
        "-3&-2&10\\\\\n",
        "0&10&7\n",
        "\\end{matrix}\n",
        "\\right)\n",
        "\\quad\n",
        "M_2=\\left(\n",
        "\\begin{matrix}\n",
        "18&1 - 2I& -2\\\\\n",
        "1 + 2I&4&-3I\\\\\n",
        "-2&3I&5\n",
        "\\end{matrix}\n",
        "\\right)\n",
        "$$\n",
        "Проверить положительную определенность эрмитовой матрицы. Проверить, что получено разложение именно этих матриц (соответствующее произведение равно исходной матрице)."
      ]
    },
    {
      "cell_type": "code",
      "source": [
        "M1 = Matrix([[1, -3, 0],\n",
        "             [-3, -2, 10],\n",
        "             [0, 10, 7]])\n",
        "M2 = Matrix([[18, 1 - 2*I, -2],\n",
        "             [1 + 2*I, 4, -3*I],\n",
        "             [-2, 3*I, 5]])\n",
        "LM1 = M1.cholesky(hermitian=False)\n",
        "LM2 = M2.cholesky()\n",
        "display(Latex(f'L_M1 = {latex(LM1)},\\ L_M1L_M1^T - M_1= {latex(simplify(LM1 * LM1.T - M1))},\\\\\\\\\\\n",
        "        M_2.is\\_positive\\_definite\\ {M2.is_positive_definite},\\\\\\\\\\\n",
        "        L_M2 = {latex(simplify(LM2))},\\\\\\\\\\\n",
        "        L_M2*L_M2^H - M_2 = {latex(simplify(LM2 * LM2.H - M2))}'))\n",
        "\n"
      ],
      "metadata": {
        "id": "T698XeuWtHQV",
        "colab": {
          "base_uri": "https://localhost:8080/",
          "height": 237
        },
        "outputId": "531d1e75-dfdf-4f50-d062-3b3792627e2a"
      },
      "execution_count": null,
      "outputs": [
        {
          "output_type": "display_data",
          "data": {
            "text/plain": [
              "<IPython.core.display.Latex object>"
            ],
            "text/latex": "L_M1 = \\left[\\begin{matrix}1 & 0 & 0\\\\-3 & \\sqrt{11} i & 0\\\\0 & - \\frac{10 \\sqrt{11} i}{11} & \\frac{\\sqrt{1947}}{11}\\end{matrix}\\right],\\ L_M1L_M1^T - M_1= \\left[\\begin{matrix}0 & 0 & 0\\\\0 & 0 & 0\\\\0 & 0 & 0\\end{matrix}\\right],\\\\        M_2.is\\_positive\\_definite\\ True,\\\\        L_M2 = \\left[\\begin{matrix}3 \\sqrt{2} & 0 & 0\\\\\\frac{\\sqrt{2} \\left(1 + 2 i\\right)}{6} & \\frac{\\sqrt{134}}{6} & 0\\\\- \\frac{\\sqrt{2}}{3} & \\frac{\\sqrt{134} \\left(1 + 25 i\\right)}{201} & \\frac{\\sqrt{12127}}{67}\\end{matrix}\\right],\\\\        L_M2*L_M2^H - M_2 = \\left[\\begin{matrix}0 & 0 & 0\\\\0 & 0 & 0\\\\0 & 0 & 0\\end{matrix}\\right]"
          },
          "metadata": {}
        }
      ]
    },
    {
      "cell_type": "markdown",
      "metadata": {
        "id": "qrvNv_U7EloA"
      },
      "source": [
        "### Задание 3.\n",
        "Построить  LDL разложение для матриц Задания 2. Вывести на экран все элементы разложения. Проверить, что получено разложение именно этих матриц (соответствующее произведение равно исходной матрице)."
      ]
    },
    {
      "cell_type": "code",
      "source": [
        "LM1, DM1 = M1.LDLdecomposition(hermitian=False)\n",
        "LM2, DM2 = M2.LDLdecomposition()\n",
        "LM1, DM1, LM2, DM2 = [simplify(item) for item in (LM1, DM1, LM2, DM2)]\n",
        "display(Latex(\"\"\"M_1 = {}\\\\\\\\\\\n",
        "                L_M1 = {}, D_M1 = {},\\\\\\\\\n",
        "                L_M1D_M1L_M1^T = {},  L_M1D_M1L_M1^T - M_1 = {}\\\\\\\\\\\n",
        "                M_2 = {}\\\\\\\\\\\n",
        "                L_M2 = {}, D_M2 = {},\\\\\\\\\\\n",
        "                L_M2D_M2L_M2^H = {}, L_M2D_M2L_M2^H - M_2 = {}\\\n",
        "                \"\"\".format(*[latex(item) for item in (M1,\n",
        "                                                    LM1, DM1,\n",
        "                                                    LM1 * DM1 * LM1.T, LM1 * DM1 * LM1.T - M1,\n",
        "                                                    M2,\n",
        "                                                    LM2, simplify(DM2),\n",
        "                                                    simplify(LM2 * DM2 * LM2.H), simplify(LM2 * DM2 * LM2.H - M2))])))"
      ],
      "metadata": {
        "id": "LEqC_JtYtI61",
        "colab": {
          "base_uri": "https://localhost:8080/",
          "height": 383
        },
        "outputId": "305db366-83fa-4768-a616-b2d6e4ebf144"
      },
      "execution_count": null,
      "outputs": [
        {
          "output_type": "display_data",
          "data": {
            "text/plain": [
              "<IPython.core.display.Latex object>"
            ],
            "text/latex": "M_1 = \\left[\\begin{matrix}1 & -3 & 0\\\\-3 & -2 & 10\\\\0 & 10 & 7\\end{matrix}\\right]\\\\                L_M1 = \\left[\\begin{matrix}1 & 0 & 0\\\\-3 & 1 & 0\\\\0 & - \\frac{10}{11} & 1\\end{matrix}\\right], D_M1 = \\left[\\begin{matrix}1 & 0 & 0\\\\0 & -11 & 0\\\\0 & 0 & \\frac{177}{11}\\end{matrix}\\right],\\\\\n                L_M1D_M1L_M1^T = \\left[\\begin{matrix}1 & -3 & 0\\\\-3 & -2 & 10\\\\0 & 10 & 7\\end{matrix}\\right],  L_M1D_M1L_M1^T - M_1 = \\left[\\begin{matrix}0 & 0 & 0\\\\0 & 0 & 0\\\\0 & 0 & 0\\end{matrix}\\right]\\\\                M_2 = \\left[\\begin{matrix}18 & 1 - 2 i & -2\\\\1 + 2 i & 4 & - 3 i\\\\-2 & 3 i & 5\\end{matrix}\\right]\\\\                L_M2 = \\left[\\begin{matrix}1 & 0 & 0\\\\\\frac{1}{18} + \\frac{i}{9} & 1 & 0\\\\- \\frac{1}{9} & \\frac{2}{67} + \\frac{50 i}{67} & 1\\end{matrix}\\right], D_M2 = \\left[\\begin{matrix}18 & 0 & 0\\\\0 & \\frac{67}{18} & 0\\\\0 & 0 & \\frac{181}{67}\\end{matrix}\\right],\\\\                L_M2D_M2L_M2^H = \\left[\\begin{matrix}18 & 1 - 2 i & -2\\\\1 + 2 i & 4 & - 3 i\\\\-2 & 3 i & 5\\end{matrix}\\right], L_M2D_M2L_M2^H - M_2 = \\left[\\begin{matrix}0 & 0 & 0\\\\0 & 0 & 0\\\\0 & 0 & 0\\end{matrix}\\right]                "
          },
          "metadata": {}
        }
      ]
    },
    {
      "cell_type": "markdown",
      "metadata": {
        "id": "FVp0Db5lEloB"
      },
      "source": [
        "### Задание  4.\n",
        "Построить  LU разложение для матрицы\n",
        "$$\n",
        "V=\\left(\n",
        "\\begin{matrix}\n",
        "5&-2 - I&3 - 4I&1 + 4I\\\\\n",
        "1 - I&-2&5 - I&2 - I\\\\\n",
        "5&6 + I&0&5\n",
        "\\end{matrix}\n",
        "\\right)\n",
        "$$\n",
        "Вывести на экран все элементы разложения.\n",
        "\n",
        "Проверить, что получено разложение именно этой матрицы (соответствующее произведение равно исходной матрице)."
      ]
    },
    {
      "cell_type": "code",
      "source": [
        "V = Matrix([[5, -2 - I, 3 - 4*I, 1 + 4*I],\n",
        "            [1 - I, -2, 5 - I, 2 - I],\n",
        "            [5, 6 + I, 0, 5]])\n",
        "L, U, perm = V.LUdecomposition()\n",
        "P = eye(V.shape[0]).permuteFwd(perm)\n",
        "display(Latex(\"V = {}\\\\\\\\perm = {}, L = {}, U = {}\\\\\\\\LU = {}, PLU = {}\\\n",
        "\".format(*map(latex, (V, perm, *map(simplify, (L, U, L * U, P * L * U)))))))"
      ],
      "metadata": {
        "id": "U9gdVH8WtKgT",
        "colab": {
          "base_uri": "https://localhost:8080/",
          "height": 200
        },
        "outputId": "7f40ae2e-2884-44fa-c660-a296f7780ef8"
      },
      "execution_count": null,
      "outputs": [
        {
          "output_type": "display_data",
          "data": {
            "text/plain": [
              "<IPython.core.display.Latex object>"
            ],
            "text/latex": "V = \\left[\\begin{matrix}5 & -2 - i & 3 - 4 i & 1 + 4 i\\\\1 - i & -2 & 5 - i & 2 - i\\\\5 & 6 + i & 0 & 5\\end{matrix}\\right]\\\\perm = \\left[ \\left[ 1, \\  2\\right]\\right], L = \\left[\\begin{matrix}1 & 0 & 0\\\\1 & 1 & 0\\\\\\frac{1}{5} - \\frac{i}{5} & - \\frac{29}{170} + \\frac{3 i}{170} & 1\\end{matrix}\\right], U = \\left[\\begin{matrix}5 & -2 - i & 3 - 4 i & 1 + 4 i\\\\0 & 8 + 2 i & -3 + 4 i & 4 - 4 i\\\\0 & 0 & \\frac{809}{170} + \\frac{193 i}{170} & \\frac{137}{85} - \\frac{40 i}{17}\\end{matrix}\\right]\\\\LU = \\left[\\begin{matrix}5 & -2 - i & 3 - 4 i & 1 + 4 i\\\\5 & 6 + i & 0 & 5\\\\1 - i & -2 & 5 - i & 2 - i\\end{matrix}\\right], PLU = \\left[\\begin{matrix}5 & -2 - i & 3 - 4 i & 1 + 4 i\\\\1 - i & -2 & 5 - i & 2 - i\\\\5 & 6 + i & 0 & 5\\end{matrix}\\right]"
          },
          "metadata": {}
        }
      ]
    },
    {
      "cell_type": "markdown",
      "metadata": {
        "id": "w9-3cXYHEloC"
      },
      "source": [
        "### Задание  5.\n",
        "Построить  QR разложение для матрицы\n",
        "$$\n",
        "A=\\left(\n",
        "\\begin{matrix}\n",
        "3 + i&  2 & -i\\\\\n",
        "-2 & -3 &  i\\\\\n",
        "1 + i & -1 &  0\n",
        "\\end{matrix}\n",
        "\\right).\n",
        "$$\n",
        "Вывести на экран все элементы разложения и показать, что $A = QR$."
      ]
    },
    {
      "cell_type": "code",
      "source": [
        "A = Matrix([[3 + I, 2, -I],\n",
        "            [-2, -3, I],\n",
        "            [1 + I, -1, 0]])\n",
        "Q, R = A.QRdecomposition()\n",
        "AQR = Q * R\n",
        "Q, R, AQR = [simplify(item) for item in (Q, R, AQR)]\n",
        "display(Latex(\"\"\"A = {}\\\\\\\\Q = {}, R = {}\\\\\\\\\n",
        "QR = {}\\\\\\\\A = QR\\ {}\"\"\".format(*map(latex, (A, Q, R, AQR, A == AQR)))))"
      ],
      "metadata": {
        "colab": {
          "base_uri": "https://localhost:8080/",
          "height": 236
        },
        "id": "oC8-bYVsvHSu",
        "outputId": "d381c005-41f2-40ec-f305-4e52915afa6b"
      },
      "execution_count": null,
      "outputs": [
        {
          "output_type": "display_data",
          "data": {
            "text/plain": [
              "<IPython.core.display.Latex object>"
            ],
            "text/latex": "A = \\left[\\begin{matrix}3 + i & 2 & - i\\\\-2 & -3 & i\\\\1 + i & -1 & 0\\end{matrix}\\right]\\\\Q = \\left[\\begin{matrix}\\frac{3}{4} + \\frac{i}{4} & \\frac{\\sqrt{102} \\left(-1 - 4 i\\right)}{204}\\\\- \\frac{1}{2} & \\frac{\\sqrt{102} \\left(-13 - i\\right)}{204}\\\\\\frac{1}{4} + \\frac{i}{4} & \\frac{\\sqrt{102} \\left(-14 - 5 i\\right)}{204}\\end{matrix}\\right], R = \\left[\\begin{matrix}4 & \\frac{11}{4} - \\frac{i}{4} & - \\frac{1}{4} - \\frac{5 i}{4}\\\\0 & \\frac{\\sqrt{102}}{4} & \\frac{\\sqrt{102} \\left(1 - 4 i\\right)}{68}\\end{matrix}\\right]\\\\\nQR = \\left[\\begin{matrix}3 + i & 2 & - i\\\\-2 & -3 & i\\\\1 + i & -1 & 0\\end{matrix}\\right]\\\\A = QR\\ \\text{True}"
          },
          "metadata": {}
        }
      ]
    },
    {
      "cell_type": "markdown",
      "source": [
        "### Задание  6*.\n",
        "Описать функцию, которая считывает из файла матрицу и возвращает ее QR разложение. Применить функцию в цикле к файлам \"sem_12_task_6_k.xlsx\", $k=1, ...12$, вывести на экран для четных $k$ правый нижний элемент матрицы $Q$, а для нечетных левый верхний элемент $R$.  \n"
      ],
      "metadata": {
        "id": "H2KhOi8hglzz"
      }
    },
    {
      "cell_type": "code",
      "source": [
        "from google.colab import files\n",
        "import pandas as pd\n",
        "uploaded = files.upload()"
      ],
      "metadata": {
        "colab": {
          "base_uri": "https://localhost:8080/",
          "height": 463
        },
        "id": "P1xW8wvxvGuA",
        "outputId": "99462729-40e0-42b7-89da-207397277516"
      },
      "execution_count": null,
      "outputs": [
        {
          "output_type": "display_data",
          "data": {
            "text/plain": [
              "<IPython.core.display.HTML object>"
            ],
            "text/html": [
              "\n",
              "     <input type=\"file\" id=\"files-186e890b-5b0b-4c16-a9c2-67eaab218e25\" name=\"files[]\" multiple disabled\n",
              "        style=\"border:none\" />\n",
              "     <output id=\"result-186e890b-5b0b-4c16-a9c2-67eaab218e25\">\n",
              "      Upload widget is only available when the cell has been executed in the\n",
              "      current browser session. Please rerun this cell to enable.\n",
              "      </output>\n",
              "      <script>// Copyright 2017 Google LLC\n",
              "//\n",
              "// Licensed under the Apache License, Version 2.0 (the \"License\");\n",
              "// you may not use this file except in compliance with the License.\n",
              "// You may obtain a copy of the License at\n",
              "//\n",
              "//      http://www.apache.org/licenses/LICENSE-2.0\n",
              "//\n",
              "// Unless required by applicable law or agreed to in writing, software\n",
              "// distributed under the License is distributed on an \"AS IS\" BASIS,\n",
              "// WITHOUT WARRANTIES OR CONDITIONS OF ANY KIND, either express or implied.\n",
              "// See the License for the specific language governing permissions and\n",
              "// limitations under the License.\n",
              "\n",
              "/**\n",
              " * @fileoverview Helpers for google.colab Python module.\n",
              " */\n",
              "(function(scope) {\n",
              "function span(text, styleAttributes = {}) {\n",
              "  const element = document.createElement('span');\n",
              "  element.textContent = text;\n",
              "  for (const key of Object.keys(styleAttributes)) {\n",
              "    element.style[key] = styleAttributes[key];\n",
              "  }\n",
              "  return element;\n",
              "}\n",
              "\n",
              "// Max number of bytes which will be uploaded at a time.\n",
              "const MAX_PAYLOAD_SIZE = 100 * 1024;\n",
              "\n",
              "function _uploadFiles(inputId, outputId) {\n",
              "  const steps = uploadFilesStep(inputId, outputId);\n",
              "  const outputElement = document.getElementById(outputId);\n",
              "  // Cache steps on the outputElement to make it available for the next call\n",
              "  // to uploadFilesContinue from Python.\n",
              "  outputElement.steps = steps;\n",
              "\n",
              "  return _uploadFilesContinue(outputId);\n",
              "}\n",
              "\n",
              "// This is roughly an async generator (not supported in the browser yet),\n",
              "// where there are multiple asynchronous steps and the Python side is going\n",
              "// to poll for completion of each step.\n",
              "// This uses a Promise to block the python side on completion of each step,\n",
              "// then passes the result of the previous step as the input to the next step.\n",
              "function _uploadFilesContinue(outputId) {\n",
              "  const outputElement = document.getElementById(outputId);\n",
              "  const steps = outputElement.steps;\n",
              "\n",
              "  const next = steps.next(outputElement.lastPromiseValue);\n",
              "  return Promise.resolve(next.value.promise).then((value) => {\n",
              "    // Cache the last promise value to make it available to the next\n",
              "    // step of the generator.\n",
              "    outputElement.lastPromiseValue = value;\n",
              "    return next.value.response;\n",
              "  });\n",
              "}\n",
              "\n",
              "/**\n",
              " * Generator function which is called between each async step of the upload\n",
              " * process.\n",
              " * @param {string} inputId Element ID of the input file picker element.\n",
              " * @param {string} outputId Element ID of the output display.\n",
              " * @return {!Iterable<!Object>} Iterable of next steps.\n",
              " */\n",
              "function* uploadFilesStep(inputId, outputId) {\n",
              "  const inputElement = document.getElementById(inputId);\n",
              "  inputElement.disabled = false;\n",
              "\n",
              "  const outputElement = document.getElementById(outputId);\n",
              "  outputElement.innerHTML = '';\n",
              "\n",
              "  const pickedPromise = new Promise((resolve) => {\n",
              "    inputElement.addEventListener('change', (e) => {\n",
              "      resolve(e.target.files);\n",
              "    });\n",
              "  });\n",
              "\n",
              "  const cancel = document.createElement('button');\n",
              "  inputElement.parentElement.appendChild(cancel);\n",
              "  cancel.textContent = 'Cancel upload';\n",
              "  const cancelPromise = new Promise((resolve) => {\n",
              "    cancel.onclick = () => {\n",
              "      resolve(null);\n",
              "    };\n",
              "  });\n",
              "\n",
              "  // Wait for the user to pick the files.\n",
              "  const files = yield {\n",
              "    promise: Promise.race([pickedPromise, cancelPromise]),\n",
              "    response: {\n",
              "      action: 'starting',\n",
              "    }\n",
              "  };\n",
              "\n",
              "  cancel.remove();\n",
              "\n",
              "  // Disable the input element since further picks are not allowed.\n",
              "  inputElement.disabled = true;\n",
              "\n",
              "  if (!files) {\n",
              "    return {\n",
              "      response: {\n",
              "        action: 'complete',\n",
              "      }\n",
              "    };\n",
              "  }\n",
              "\n",
              "  for (const file of files) {\n",
              "    const li = document.createElement('li');\n",
              "    li.append(span(file.name, {fontWeight: 'bold'}));\n",
              "    li.append(span(\n",
              "        `(${file.type || 'n/a'}) - ${file.size} bytes, ` +\n",
              "        `last modified: ${\n",
              "            file.lastModifiedDate ? file.lastModifiedDate.toLocaleDateString() :\n",
              "                                    'n/a'} - `));\n",
              "    const percent = span('0% done');\n",
              "    li.appendChild(percent);\n",
              "\n",
              "    outputElement.appendChild(li);\n",
              "\n",
              "    const fileDataPromise = new Promise((resolve) => {\n",
              "      const reader = new FileReader();\n",
              "      reader.onload = (e) => {\n",
              "        resolve(e.target.result);\n",
              "      };\n",
              "      reader.readAsArrayBuffer(file);\n",
              "    });\n",
              "    // Wait for the data to be ready.\n",
              "    let fileData = yield {\n",
              "      promise: fileDataPromise,\n",
              "      response: {\n",
              "        action: 'continue',\n",
              "      }\n",
              "    };\n",
              "\n",
              "    // Use a chunked sending to avoid message size limits. See b/62115660.\n",
              "    let position = 0;\n",
              "    do {\n",
              "      const length = Math.min(fileData.byteLength - position, MAX_PAYLOAD_SIZE);\n",
              "      const chunk = new Uint8Array(fileData, position, length);\n",
              "      position += length;\n",
              "\n",
              "      const base64 = btoa(String.fromCharCode.apply(null, chunk));\n",
              "      yield {\n",
              "        response: {\n",
              "          action: 'append',\n",
              "          file: file.name,\n",
              "          data: base64,\n",
              "        },\n",
              "      };\n",
              "\n",
              "      let percentDone = fileData.byteLength === 0 ?\n",
              "          100 :\n",
              "          Math.round((position / fileData.byteLength) * 100);\n",
              "      percent.textContent = `${percentDone}% done`;\n",
              "\n",
              "    } while (position < fileData.byteLength);\n",
              "  }\n",
              "\n",
              "  // All done.\n",
              "  yield {\n",
              "    response: {\n",
              "      action: 'complete',\n",
              "    }\n",
              "  };\n",
              "}\n",
              "\n",
              "scope.google = scope.google || {};\n",
              "scope.google.colab = scope.google.colab || {};\n",
              "scope.google.colab._files = {\n",
              "  _uploadFiles,\n",
              "  _uploadFilesContinue,\n",
              "};\n",
              "})(self);\n",
              "</script> "
            ]
          },
          "metadata": {}
        },
        {
          "output_type": "stream",
          "name": "stdout",
          "text": [
            "Saving sem_12_task_6_11.xlsx to sem_12_task_6_11.xlsx\n",
            "Saving sem_12_task_6_12.xlsx to sem_12_task_6_12.xlsx\n",
            "Saving sem_12_task_6_10.xlsx to sem_12_task_6_10.xlsx\n",
            "Saving sem_12_task_6_9.xlsx to sem_12_task_6_9.xlsx\n",
            "Saving sem_12_task_6_8.xlsx to sem_12_task_6_8.xlsx\n",
            "Saving sem_12_task_6_7.xlsx to sem_12_task_6_7.xlsx\n",
            "Saving sem_12_task_6_6.xlsx to sem_12_task_6_6.xlsx\n",
            "Saving sem_12_task_6_5.xlsx to sem_12_task_6_5.xlsx\n",
            "Saving sem_12_task_6_4.xlsx to sem_12_task_6_4.xlsx\n",
            "Saving sem_12_task_6_2.xlsx to sem_12_task_6_2.xlsx\n",
            "Saving sem_12_task_6_3.xlsx to sem_12_task_6_3.xlsx\n",
            "Saving sem_12_task_6_1.xlsx to sem_12_task_6_1.xlsx\n"
          ]
        }
      ]
    },
    {
      "cell_type": "code",
      "source": [
        "def get_qr_decomposition(file_name):\n",
        "    print(f'Загружен файл {file_name}')\n",
        "    df_matrix = pd.read_excel(file_name, header=None)\n",
        "    matrix = Matrix(df_matrix)\n",
        "    Q, R = matrix.QRdecomposition()\n",
        "    return (simplify(Q), simplify(R))\n",
        "\n",
        "files_list = sorted(uploaded.keys())\n",
        "for i, file_name in enumerate(files_list):\n",
        "    Q, R = get_qr_decomposition(file_name)\n",
        "    if (i + 1)%2 == 0:\n",
        "        display(Q[-1, -1])\n",
        "    else:\n",
        "        display(R[0, 0])"
      ],
      "metadata": {
        "colab": {
          "base_uri": "https://localhost:8080/",
          "height": 591
        },
        "id": "RPWXrIyrxt0T",
        "outputId": "1bc6bf73-95ef-47a4-d484-ea403293636d"
      },
      "execution_count": null,
      "outputs": [
        {
          "output_type": "stream",
          "name": "stdout",
          "text": [
            "Загружен файл sem_12_task_6_1.xlsx\n"
          ]
        },
        {
          "output_type": "display_data",
          "data": {
            "text/plain": [
              "2*sqrt(5)"
            ],
            "text/latex": "$\\displaystyle 2 \\sqrt{5}$"
          },
          "metadata": {}
        },
        {
          "output_type": "stream",
          "name": "stdout",
          "text": [
            "Загружен файл sem_12_task_6_10.xlsx\n"
          ]
        },
        {
          "output_type": "display_data",
          "data": {
            "text/plain": [
              "5*sqrt(74)/74"
            ],
            "text/latex": "$\\displaystyle \\frac{5 \\sqrt{74}}{74}$"
          },
          "metadata": {}
        },
        {
          "output_type": "stream",
          "name": "stdout",
          "text": [
            "Загружен файл sem_12_task_6_11.xlsx\n"
          ]
        },
        {
          "output_type": "display_data",
          "data": {
            "text/plain": [
              "sqrt(89)"
            ],
            "text/latex": "$\\displaystyle \\sqrt{89}$"
          },
          "metadata": {}
        },
        {
          "output_type": "stream",
          "name": "stdout",
          "text": [
            "Загружен файл sem_12_task_6_12.xlsx\n"
          ]
        },
        {
          "output_type": "display_data",
          "data": {
            "text/plain": [
              "-5*sqrt(106)/106"
            ],
            "text/latex": "$\\displaystyle - \\frac{5 \\sqrt{106}}{106}$"
          },
          "metadata": {}
        },
        {
          "output_type": "stream",
          "name": "stdout",
          "text": [
            "Загружен файл sem_12_task_6_2.xlsx\n"
          ]
        },
        {
          "output_type": "display_data",
          "data": {
            "text/plain": [
              "sqrt(29)"
            ],
            "text/latex": "$\\displaystyle \\sqrt{29}$"
          },
          "metadata": {}
        },
        {
          "output_type": "stream",
          "name": "stdout",
          "text": [
            "Загружен файл sem_12_task_6_3.xlsx\n"
          ]
        },
        {
          "output_type": "display_data",
          "data": {
            "text/plain": [
              "-sqrt(10)/10"
            ],
            "text/latex": "$\\displaystyle - \\frac{\\sqrt{10}}{10}$"
          },
          "metadata": {}
        },
        {
          "output_type": "stream",
          "name": "stdout",
          "text": [
            "Загружен файл sem_12_task_6_4.xlsx\n"
          ]
        },
        {
          "output_type": "display_data",
          "data": {
            "text/plain": [
              "sqrt(34)"
            ],
            "text/latex": "$\\displaystyle \\sqrt{34}$"
          },
          "metadata": {}
        },
        {
          "output_type": "stream",
          "name": "stdout",
          "text": [
            "Загружен файл sem_12_task_6_5.xlsx\n"
          ]
        },
        {
          "output_type": "display_data",
          "data": {
            "text/plain": [
              "-sqrt(5)/5"
            ],
            "text/latex": "$\\displaystyle - \\frac{\\sqrt{5}}{5}$"
          },
          "metadata": {}
        },
        {
          "output_type": "stream",
          "name": "stdout",
          "text": [
            "Загружен файл sem_12_task_6_6.xlsx\n"
          ]
        },
        {
          "output_type": "display_data",
          "data": {
            "text/plain": [
              "sqrt(58)"
            ],
            "text/latex": "$\\displaystyle \\sqrt{58}$"
          },
          "metadata": {}
        },
        {
          "output_type": "stream",
          "name": "stdout",
          "text": [
            "Загружен файл sem_12_task_6_7.xlsx\n"
          ]
        },
        {
          "output_type": "display_data",
          "data": {
            "text/plain": [
              "2*sqrt(13)/13"
            ],
            "text/latex": "$\\displaystyle \\frac{2 \\sqrt{13}}{13}$"
          },
          "metadata": {}
        },
        {
          "output_type": "stream",
          "name": "stdout",
          "text": [
            "Загружен файл sem_12_task_6_8.xlsx\n"
          ]
        },
        {
          "output_type": "display_data",
          "data": {
            "text/plain": [
              "sqrt(65)"
            ],
            "text/latex": "$\\displaystyle \\sqrt{65}$"
          },
          "metadata": {}
        },
        {
          "output_type": "stream",
          "name": "stdout",
          "text": [
            "Загружен файл sem_12_task_6_9.xlsx\n"
          ]
        },
        {
          "output_type": "display_data",
          "data": {
            "text/plain": [
              "-sqrt(5)/5"
            ],
            "text/latex": "$\\displaystyle - \\frac{\\sqrt{5}}{5}$"
          },
          "metadata": {}
        }
      ]
    },
    {
      "cell_type": "markdown",
      "metadata": {
        "id": "gTTZBv9tEloE"
      },
      "source": [
        "### Индивидуальное задание.\n",
        "Считать из файла \"alg_12_ind_v_xx.xlsx\" матрицу $A$, построить и вывести на экран QR разложение матрицы $A$ и записать в файл \"alg_12_ind_v_xx_ans.xlsx\" на листы $Q$ и $R$ соответствующие матрицы."
      ]
    },
    {
      "cell_type": "code",
      "source": [
        "from google.colab import files\n",
        "import pandas as pd\n",
        "uploaded = files.upload()"
      ],
      "metadata": {
        "colab": {
          "base_uri": "https://localhost:8080/",
          "height": 73
        },
        "id": "Lj2ZHiv-vFMu",
        "outputId": "ddbad5c8-5324-4152-8e24-89f0670641ad"
      },
      "execution_count": null,
      "outputs": [
        {
          "output_type": "display_data",
          "data": {
            "text/plain": [
              "<IPython.core.display.HTML object>"
            ],
            "text/html": [
              "\n",
              "     <input type=\"file\" id=\"files-d89050ac-c805-4b5f-907b-b993b5688233\" name=\"files[]\" multiple disabled\n",
              "        style=\"border:none\" />\n",
              "     <output id=\"result-d89050ac-c805-4b5f-907b-b993b5688233\">\n",
              "      Upload widget is only available when the cell has been executed in the\n",
              "      current browser session. Please rerun this cell to enable.\n",
              "      </output>\n",
              "      <script>// Copyright 2017 Google LLC\n",
              "//\n",
              "// Licensed under the Apache License, Version 2.0 (the \"License\");\n",
              "// you may not use this file except in compliance with the License.\n",
              "// You may obtain a copy of the License at\n",
              "//\n",
              "//      http://www.apache.org/licenses/LICENSE-2.0\n",
              "//\n",
              "// Unless required by applicable law or agreed to in writing, software\n",
              "// distributed under the License is distributed on an \"AS IS\" BASIS,\n",
              "// WITHOUT WARRANTIES OR CONDITIONS OF ANY KIND, either express or implied.\n",
              "// See the License for the specific language governing permissions and\n",
              "// limitations under the License.\n",
              "\n",
              "/**\n",
              " * @fileoverview Helpers for google.colab Python module.\n",
              " */\n",
              "(function(scope) {\n",
              "function span(text, styleAttributes = {}) {\n",
              "  const element = document.createElement('span');\n",
              "  element.textContent = text;\n",
              "  for (const key of Object.keys(styleAttributes)) {\n",
              "    element.style[key] = styleAttributes[key];\n",
              "  }\n",
              "  return element;\n",
              "}\n",
              "\n",
              "// Max number of bytes which will be uploaded at a time.\n",
              "const MAX_PAYLOAD_SIZE = 100 * 1024;\n",
              "\n",
              "function _uploadFiles(inputId, outputId) {\n",
              "  const steps = uploadFilesStep(inputId, outputId);\n",
              "  const outputElement = document.getElementById(outputId);\n",
              "  // Cache steps on the outputElement to make it available for the next call\n",
              "  // to uploadFilesContinue from Python.\n",
              "  outputElement.steps = steps;\n",
              "\n",
              "  return _uploadFilesContinue(outputId);\n",
              "}\n",
              "\n",
              "// This is roughly an async generator (not supported in the browser yet),\n",
              "// where there are multiple asynchronous steps and the Python side is going\n",
              "// to poll for completion of each step.\n",
              "// This uses a Promise to block the python side on completion of each step,\n",
              "// then passes the result of the previous step as the input to the next step.\n",
              "function _uploadFilesContinue(outputId) {\n",
              "  const outputElement = document.getElementById(outputId);\n",
              "  const steps = outputElement.steps;\n",
              "\n",
              "  const next = steps.next(outputElement.lastPromiseValue);\n",
              "  return Promise.resolve(next.value.promise).then((value) => {\n",
              "    // Cache the last promise value to make it available to the next\n",
              "    // step of the generator.\n",
              "    outputElement.lastPromiseValue = value;\n",
              "    return next.value.response;\n",
              "  });\n",
              "}\n",
              "\n",
              "/**\n",
              " * Generator function which is called between each async step of the upload\n",
              " * process.\n",
              " * @param {string} inputId Element ID of the input file picker element.\n",
              " * @param {string} outputId Element ID of the output display.\n",
              " * @return {!Iterable<!Object>} Iterable of next steps.\n",
              " */\n",
              "function* uploadFilesStep(inputId, outputId) {\n",
              "  const inputElement = document.getElementById(inputId);\n",
              "  inputElement.disabled = false;\n",
              "\n",
              "  const outputElement = document.getElementById(outputId);\n",
              "  outputElement.innerHTML = '';\n",
              "\n",
              "  const pickedPromise = new Promise((resolve) => {\n",
              "    inputElement.addEventListener('change', (e) => {\n",
              "      resolve(e.target.files);\n",
              "    });\n",
              "  });\n",
              "\n",
              "  const cancel = document.createElement('button');\n",
              "  inputElement.parentElement.appendChild(cancel);\n",
              "  cancel.textContent = 'Cancel upload';\n",
              "  const cancelPromise = new Promise((resolve) => {\n",
              "    cancel.onclick = () => {\n",
              "      resolve(null);\n",
              "    };\n",
              "  });\n",
              "\n",
              "  // Wait for the user to pick the files.\n",
              "  const files = yield {\n",
              "    promise: Promise.race([pickedPromise, cancelPromise]),\n",
              "    response: {\n",
              "      action: 'starting',\n",
              "    }\n",
              "  };\n",
              "\n",
              "  cancel.remove();\n",
              "\n",
              "  // Disable the input element since further picks are not allowed.\n",
              "  inputElement.disabled = true;\n",
              "\n",
              "  if (!files) {\n",
              "    return {\n",
              "      response: {\n",
              "        action: 'complete',\n",
              "      }\n",
              "    };\n",
              "  }\n",
              "\n",
              "  for (const file of files) {\n",
              "    const li = document.createElement('li');\n",
              "    li.append(span(file.name, {fontWeight: 'bold'}));\n",
              "    li.append(span(\n",
              "        `(${file.type || 'n/a'}) - ${file.size} bytes, ` +\n",
              "        `last modified: ${\n",
              "            file.lastModifiedDate ? file.lastModifiedDate.toLocaleDateString() :\n",
              "                                    'n/a'} - `));\n",
              "    const percent = span('0% done');\n",
              "    li.appendChild(percent);\n",
              "\n",
              "    outputElement.appendChild(li);\n",
              "\n",
              "    const fileDataPromise = new Promise((resolve) => {\n",
              "      const reader = new FileReader();\n",
              "      reader.onload = (e) => {\n",
              "        resolve(e.target.result);\n",
              "      };\n",
              "      reader.readAsArrayBuffer(file);\n",
              "    });\n",
              "    // Wait for the data to be ready.\n",
              "    let fileData = yield {\n",
              "      promise: fileDataPromise,\n",
              "      response: {\n",
              "        action: 'continue',\n",
              "      }\n",
              "    };\n",
              "\n",
              "    // Use a chunked sending to avoid message size limits. See b/62115660.\n",
              "    let position = 0;\n",
              "    do {\n",
              "      const length = Math.min(fileData.byteLength - position, MAX_PAYLOAD_SIZE);\n",
              "      const chunk = new Uint8Array(fileData, position, length);\n",
              "      position += length;\n",
              "\n",
              "      const base64 = btoa(String.fromCharCode.apply(null, chunk));\n",
              "      yield {\n",
              "        response: {\n",
              "          action: 'append',\n",
              "          file: file.name,\n",
              "          data: base64,\n",
              "        },\n",
              "      };\n",
              "\n",
              "      let percentDone = fileData.byteLength === 0 ?\n",
              "          100 :\n",
              "          Math.round((position / fileData.byteLength) * 100);\n",
              "      percent.textContent = `${percentDone}% done`;\n",
              "\n",
              "    } while (position < fileData.byteLength);\n",
              "  }\n",
              "\n",
              "  // All done.\n",
              "  yield {\n",
              "    response: {\n",
              "      action: 'complete',\n",
              "    }\n",
              "  };\n",
              "}\n",
              "\n",
              "scope.google = scope.google || {};\n",
              "scope.google.colab = scope.google.colab || {};\n",
              "scope.google.colab._files = {\n",
              "  _uploadFiles,\n",
              "  _uploadFilesContinue,\n",
              "};\n",
              "})(self);\n",
              "</script> "
            ]
          },
          "metadata": {}
        },
        {
          "output_type": "stream",
          "name": "stdout",
          "text": [
            "Saving alg_12_ind_v_75.xlsx to alg_12_ind_v_75.xlsx\n"
          ]
        }
      ]
    },
    {
      "cell_type": "code",
      "source": [
        "df_A = pd.read_excel(\"alg_12_ind_v_75.xlsx\", header=None)\n",
        "A = Matrix(df_A)\n",
        "Q, R = A.QRdecomposition()\n",
        "AQR = Q * R\n",
        "Q, R, AQR = [simplify(item) for item in (Q, R, AQR)]\n",
        "display(Latex(\"\"\"A = {}\\\\\\\\Q = {}, R = {}\\\\\\\\\n",
        "QR = {}\\\\\\\\A = QR\\ {}\"\"\".format(*map(latex, (A, Q, R, AQR, A == AQR)))))\n",
        "\n",
        "df_Q = pd.DataFrame(Q.tolist())\n",
        "df_R = pd.DataFrame(R.tolist())\n",
        "file_path = \"alg_12_ind_v_75_ans.xlsx\"\n",
        "with pd.ExcelWriter(file_path) as writer:\n",
        "    df_Q.to_excel(writer, sheet_name=\"Q\", header=False, index=False)\n",
        "    df_R.to_excel(writer, sheet_name=\"R\", header=False, index=False)\n",
        "\n",
        "files.download(file_path)"
      ],
      "metadata": {
        "id": "rwEGaR6-gSSV",
        "colab": {
          "base_uri": "https://localhost:8080/",
          "height": 479
        },
        "outputId": "7546f672-f396-4996-de20-6b7efbb23a0c"
      },
      "execution_count": null,
      "outputs": [
        {
          "output_type": "display_data",
          "data": {
            "text/plain": [
              "<IPython.core.display.Latex object>"
            ],
            "text/latex": "A = \\left[\\begin{matrix}4 & 2 & 1 & 3 & 5\\\\6 & 9 & 3 & 1 & 7\\\\6 & 1 & 9 & 2 & 6\\\\1 & 1 & 9 & 7 & 5\\\\3 & 7 & 4 & 1 & 7\\end{matrix}\\right]\\\\Q = \\left[\\begin{matrix}\\frac{2 \\sqrt{2}}{7} & - \\frac{41 \\sqrt{2614}}{9149} & - \\frac{889 \\sqrt{603167430}}{60316743} & \\frac{143512 \\sqrt{4015644620730}}{401564462073} & \\frac{1105 \\sqrt{8701477}}{8701477}\\\\\\frac{3 \\sqrt{2}}{7} & \\frac{171 \\sqrt{2614}}{18298} & - \\frac{879 \\sqrt{603167430}}{100527905} & \\frac{10241 \\sqrt{4015644620730}}{1338548206910} & - \\frac{1765 \\sqrt{8701477}}{8701477}\\\\\\frac{3 \\sqrt{2}}{7} & - \\frac{221 \\sqrt{2614}}{18298} & \\frac{163 \\sqrt{603167430}}{20105581} & - \\frac{61261 \\sqrt{4015644620730}}{267709641382} & \\frac{111 \\sqrt{8701477}}{8701477}\\\\\\frac{\\sqrt{2}}{14} & \\frac{2 \\sqrt{2614}}{9149} & \\frac{4199 \\sqrt{603167430}}{120633486} & \\frac{95105 \\sqrt{4015644620730}}{401564462073} & - \\frac{541 \\sqrt{8701477}}{8701477}\\\\\\frac{3 \\sqrt{2}}{14} & \\frac{104 \\sqrt{2614}}{9149} & \\frac{5623 \\sqrt{603167430}}{603167430} & - \\frac{227063 \\sqrt{4015644620730}}{2007822310365} & \\frac{2015 \\sqrt{8701477}}{8701477}\\end{matrix}\\right], R = \\left[\\begin{matrix}7 \\sqrt{2} & \\frac{45 \\sqrt{2}}{7} & \\frac{97 \\sqrt{2}}{14} & \\frac{20 \\sqrt{2}}{7} & \\frac{62 \\sqrt{2}}{7}\\\\0 & \\frac{\\sqrt{2614}}{7} & - \\frac{345 \\sqrt{2614}}{9149} & - \\frac{281 \\sqrt{2614}}{18298} & \\frac{937 \\sqrt{2614}}{18298}\\\\0 & 0 & \\frac{\\sqrt{603167430}}{2614} & \\frac{65212 \\sqrt{603167430}}{301583715} & \\frac{46154 \\sqrt{603167430}}{301583715}\\\\0 & 0 & 0 & \\frac{\\sqrt{4015644620730}}{461490} & \\frac{3453539 \\sqrt{4015644620730}}{4015644620730}\\\\0 & 0 & 0 & 0 & \\frac{5236 \\sqrt{8701477}}{8701477}\\end{matrix}\\right]\\\\\nQR = \\left[\\begin{matrix}4 & 2 & 1 & 3 & 5\\\\6 & 9 & 3 & 1 & 7\\\\6 & 1 & 9 & 2 & 6\\\\1 & 1 & 9 & 7 & 5\\\\3 & 7 & 4 & 1 & 7\\end{matrix}\\right]\\\\A = QR\\ \\text{True}"
          },
          "metadata": {}
        },
        {
          "output_type": "display_data",
          "data": {
            "text/plain": [
              "<IPython.core.display.Javascript object>"
            ],
            "application/javascript": [
              "\n",
              "    async function download(id, filename, size) {\n",
              "      if (!google.colab.kernel.accessAllowed) {\n",
              "        return;\n",
              "      }\n",
              "      const div = document.createElement('div');\n",
              "      const label = document.createElement('label');\n",
              "      label.textContent = `Downloading \"${filename}\": `;\n",
              "      div.appendChild(label);\n",
              "      const progress = document.createElement('progress');\n",
              "      progress.max = size;\n",
              "      div.appendChild(progress);\n",
              "      document.body.appendChild(div);\n",
              "\n",
              "      const buffers = [];\n",
              "      let downloaded = 0;\n",
              "\n",
              "      const channel = await google.colab.kernel.comms.open(id);\n",
              "      // Send a message to notify the kernel that we're ready.\n",
              "      channel.send({})\n",
              "\n",
              "      for await (const message of channel.messages) {\n",
              "        // Send a message to notify the kernel that we're ready.\n",
              "        channel.send({})\n",
              "        if (message.buffers) {\n",
              "          for (const buffer of message.buffers) {\n",
              "            buffers.push(buffer);\n",
              "            downloaded += buffer.byteLength;\n",
              "            progress.value = downloaded;\n",
              "          }\n",
              "        }\n",
              "      }\n",
              "      const blob = new Blob(buffers, {type: 'application/binary'});\n",
              "      const a = document.createElement('a');\n",
              "      a.href = window.URL.createObjectURL(blob);\n",
              "      a.download = filename;\n",
              "      div.appendChild(a);\n",
              "      a.click();\n",
              "      div.remove();\n",
              "    }\n",
              "  "
            ]
          },
          "metadata": {}
        },
        {
          "output_type": "display_data",
          "data": {
            "text/plain": [
              "<IPython.core.display.Javascript object>"
            ],
            "application/javascript": [
              "download(\"download_26ae0d00-fec9-43cf-8c26-739e95629aa1\", \"alg_12_ind_v_75_ans.xlsx\", 5842)"
            ]
          },
          "metadata": {}
        }
      ]
    }
  ]
}